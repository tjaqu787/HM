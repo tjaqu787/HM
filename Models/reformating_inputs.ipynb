{
 "cells": [
  {
   "cell_type": "code",
   "execution_count": 1,
   "metadata": {
    "collapsed": true,
    "pycharm": {
     "name": "#%%\n"
    }
   },
   "outputs": [],
   "source": [
    "import pandas as pd\n",
    "import numpy as np"
   ]
  },
  {
   "cell_type": "code",
   "execution_count": 2,
   "outputs": [],
   "source": [
    "\n",
    "files = ['../inputs/female_cx_data.csv','../inputs/male_cx_data.csv','../inputs/customer_info.csv']\n",
    "for file in files:\n",
    "    x = pd.read_csv(file)\n",
    "    x['age'] = (x['age']-16)\n",
    "    x = x.fillna(0)\n",
    "    x.to_csv(file,index=False)"
   ],
   "metadata": {
    "collapsed": false,
    "pycharm": {
     "name": "#%%\n"
    }
   }
  },
  {
   "cell_type": "code",
   "execution_count": 3,
   "outputs": [],
   "source": [
    "for file in files:\n",
    "    x = pd.read_csv(file,index_col=0)\n",
    "    x.to_csv(file,index=False)"
   ],
   "metadata": {
    "collapsed": false,
    "pycharm": {
     "name": "#%%\n"
    }
   }
  },
  {
   "cell_type": "code",
   "execution_count": 5,
   "outputs": [],
   "source": [
    "clothing_df = pd.read_csv('../h-and-m-personalized-fashion-recommendations/articles.csv',\n",
    "                          usecols=['article_id', 'product_code', 'product_group_name', 'product_type_no',\n",
    "                                   'graphical_appearance_no', 'colour_group_code',\n",
    "                                   'perceived_colour_master_id',\n",
    "                                   'department_no', 'section_no', 'garment_group_no'])\n",
    "\n",
    "to_combine = ['Garment and Shoe care', 'Furniture', 'Stationery', 'Interior textile', 'Fun']\n",
    "for items in to_combine:\n",
    "    clothing_df['product_group_name'].str.replace(items, 'Items')\n",
    "clothing_df = pd.get_dummies(clothing_df, columns=['product_type_no', 'graphical_appearance_no',\n",
    "                                                   'colour_group_code', 'product_group_name',\n",
    "                                                   'perceived_colour_master_id',\n",
    "                                                   'department_no', 'section_no', 'garment_group_no'],\n",
    "                             drop_first=True)\n",
    "clothing_df.to_csv('../inputs/clothing.csv', index=False)"
   ],
   "metadata": {
    "collapsed": false,
    "pycharm": {
     "name": "#%%\n"
    }
   }
  },
  {
   "cell_type": "code",
   "execution_count": null,
   "outputs": [],
   "source": [
    "'2020-08-27'"
   ],
   "metadata": {
    "collapsed": false,
    "pycharm": {
     "name": "#%%\n"
    }
   }
  },
  {
   "cell_type": "code",
   "execution_count": 1,
   "outputs": [],
   "source": [
    "import pandas as pd\n",
    "dates = pd.read_csv('../inputs/first_last_date.csv')"
   ],
   "metadata": {
    "collapsed": false,
    "pycharm": {
     "name": "#%%\n"
    }
   }
  },
  {
   "cell_type": "code",
   "execution_count": 2,
   "outputs": [
    {
     "name": "stdout",
     "output_type": "stream",
     "text": [
      "2020-09-22\n",
      "2018-09-20\n",
      "2020-09-22\n"
     ]
    }
   ],
   "source": [
    "print(dates['First_Date'].max())\n",
    "print(dates['First_Date'].min())\n",
    "print(dates['Last_Date'].max())"
   ],
   "metadata": {
    "collapsed": false,
    "pycharm": {
     "name": "#%%\n"
    }
   }
  },
  {
   "cell_type": "markdown",
   "source": [
    "Consider splitting on 2020 pandemic and halfway in between?"
   ],
   "metadata": {
    "collapsed": false,
    "pycharm": {
     "name": "#%% md\n"
    }
   }
  },
  {
   "cell_type": "code",
   "execution_count": 3,
   "outputs": [],
   "source": [
    "trans = pd.read_csv('../h-and-m-personalized-fashion-recommendations/transactions_train.csv')"
   ],
   "metadata": {
    "collapsed": false,
    "pycharm": {
     "name": "#%%\n"
    }
   }
  },
  {
   "cell_type": "code",
   "execution_count": null,
   "outputs": [],
   "source": [],
   "metadata": {
    "collapsed": false,
    "pycharm": {
     "name": "#%%\n"
    }
   }
  },
  {
   "cell_type": "code",
   "execution_count": 4,
   "outputs": [],
   "source": [
    "arts = pd.read_csv('../h-and-m-personalized-fashion-recommendations/articles.csv',\n",
    "                                                     usecols=['article_id', 'product_code', 'product_group_name', 'product_type_no',\n",
    "                                           'graphical_appearance_no', 'colour_group_code',\n",
    "                                           'perceived_colour_master_id',\n",
    "                                           'department_no', 'section_no', 'garment_group_no'])"
   ],
   "metadata": {
    "collapsed": false,
    "pycharm": {
     "name": "#%%\n"
    }
   }
  },
  {
   "cell_type": "code",
   "execution_count": 5,
   "outputs": [
    {
     "data": {
      "text/plain": "        article_id  product_code  product_type_no  product_group_name  \\\n159      187949032        187949              295           Nightwear   \n718      288859020        288859              304      Socks & Tights   \n2106     395730045        395730              257  Garment Upper body   \n2708     423900056        423900              302      Socks & Tights   \n3682     462435036        462435              256  Garment Upper body   \n...            ...           ...              ...                 ...   \n105529   949323002        949323              245  Garment Upper body   \n105533   950449002        950449               78         Accessories   \n105535   952937003        952937              265   Garment Full body   \n105540   957375001        957375               72         Accessories   \n105541   959461001        959461              265   Garment Full body   \n\n        graphical_appearance_no  colour_group_code  \\\n159                     1010001                 81   \n718                     1010016                  7   \n2106                    1010001                 51   \n2708                    1010013                 52   \n3682                    1010016                 17   \n...                         ...                ...   \n105529                  1010016                  9   \n105533                  1010016                 50   \n105535                  1010001                 13   \n105540                  1010016                  9   \n105541                  1010016                 11   \n\n        perceived_colour_master_id  department_no  section_no  \\\n159                              7           6563          44   \n718                             12           7931          79   \n2106                             4           7920          79   \n2708                             4           7921          79   \n3682                            13           6515          44   \n...                            ...            ...         ...   \n105529                           5           1648          18   \n105533                           4           4313          43   \n105535                           1           1641          18   \n105540                           5           3946          52   \n105541                           9           1641          18   \n\n        garment_group_no  \n159                 1017  \n718                 1021  \n2106                1002  \n2708                1021  \n3682                1002  \n...                  ...  \n105529              1003  \n105533              1019  \n105535              1005  \n105540              1019  \n105541              1005  \n\n[995 rows x 10 columns]",
      "text/html": "<div>\n<style scoped>\n    .dataframe tbody tr th:only-of-type {\n        vertical-align: middle;\n    }\n\n    .dataframe tbody tr th {\n        vertical-align: top;\n    }\n\n    .dataframe thead th {\n        text-align: right;\n    }\n</style>\n<table border=\"1\" class=\"dataframe\">\n  <thead>\n    <tr style=\"text-align: right;\">\n      <th></th>\n      <th>article_id</th>\n      <th>product_code</th>\n      <th>product_type_no</th>\n      <th>product_group_name</th>\n      <th>graphical_appearance_no</th>\n      <th>colour_group_code</th>\n      <th>perceived_colour_master_id</th>\n      <th>department_no</th>\n      <th>section_no</th>\n      <th>garment_group_no</th>\n    </tr>\n  </thead>\n  <tbody>\n    <tr>\n      <th>159</th>\n      <td>187949032</td>\n      <td>187949</td>\n      <td>295</td>\n      <td>Nightwear</td>\n      <td>1010001</td>\n      <td>81</td>\n      <td>7</td>\n      <td>6563</td>\n      <td>44</td>\n      <td>1017</td>\n    </tr>\n    <tr>\n      <th>718</th>\n      <td>288859020</td>\n      <td>288859</td>\n      <td>304</td>\n      <td>Socks &amp; Tights</td>\n      <td>1010016</td>\n      <td>7</td>\n      <td>12</td>\n      <td>7931</td>\n      <td>79</td>\n      <td>1021</td>\n    </tr>\n    <tr>\n      <th>2106</th>\n      <td>395730045</td>\n      <td>395730</td>\n      <td>257</td>\n      <td>Garment Upper body</td>\n      <td>1010001</td>\n      <td>51</td>\n      <td>4</td>\n      <td>7920</td>\n      <td>79</td>\n      <td>1002</td>\n    </tr>\n    <tr>\n      <th>2708</th>\n      <td>423900056</td>\n      <td>423900</td>\n      <td>302</td>\n      <td>Socks &amp; Tights</td>\n      <td>1010013</td>\n      <td>52</td>\n      <td>4</td>\n      <td>7921</td>\n      <td>79</td>\n      <td>1021</td>\n    </tr>\n    <tr>\n      <th>3682</th>\n      <td>462435036</td>\n      <td>462435</td>\n      <td>256</td>\n      <td>Garment Upper body</td>\n      <td>1010016</td>\n      <td>17</td>\n      <td>13</td>\n      <td>6515</td>\n      <td>44</td>\n      <td>1002</td>\n    </tr>\n    <tr>\n      <th>...</th>\n      <td>...</td>\n      <td>...</td>\n      <td>...</td>\n      <td>...</td>\n      <td>...</td>\n      <td>...</td>\n      <td>...</td>\n      <td>...</td>\n      <td>...</td>\n      <td>...</td>\n    </tr>\n    <tr>\n      <th>105529</th>\n      <td>949323002</td>\n      <td>949323</td>\n      <td>245</td>\n      <td>Garment Upper body</td>\n      <td>1010016</td>\n      <td>9</td>\n      <td>5</td>\n      <td>1648</td>\n      <td>18</td>\n      <td>1003</td>\n    </tr>\n    <tr>\n      <th>105533</th>\n      <td>950449002</td>\n      <td>950449</td>\n      <td>78</td>\n      <td>Accessories</td>\n      <td>1010016</td>\n      <td>50</td>\n      <td>4</td>\n      <td>4313</td>\n      <td>43</td>\n      <td>1019</td>\n    </tr>\n    <tr>\n      <th>105535</th>\n      <td>952937003</td>\n      <td>952937</td>\n      <td>265</td>\n      <td>Garment Full body</td>\n      <td>1010001</td>\n      <td>13</td>\n      <td>1</td>\n      <td>1641</td>\n      <td>18</td>\n      <td>1005</td>\n    </tr>\n    <tr>\n      <th>105540</th>\n      <td>957375001</td>\n      <td>957375</td>\n      <td>72</td>\n      <td>Accessories</td>\n      <td>1010016</td>\n      <td>9</td>\n      <td>5</td>\n      <td>3946</td>\n      <td>52</td>\n      <td>1019</td>\n    </tr>\n    <tr>\n      <th>105541</th>\n      <td>959461001</td>\n      <td>959461</td>\n      <td>265</td>\n      <td>Garment Full body</td>\n      <td>1010016</td>\n      <td>11</td>\n      <td>9</td>\n      <td>1641</td>\n      <td>18</td>\n      <td>1005</td>\n    </tr>\n  </tbody>\n</table>\n<p>995 rows × 10 columns</p>\n</div>"
     },
     "execution_count": 5,
     "metadata": {},
     "output_type": "execute_result"
    }
   ],
   "source": [
    "df3 = arts[~arts['article_id'].isin(trans['article_id'])]\n",
    "df3"
   ],
   "metadata": {
    "collapsed": false,
    "pycharm": {
     "name": "#%%\n"
    }
   }
  },
  {
   "cell_type": "code",
   "execution_count": null,
   "outputs": [],
   "source": [
    "print(len(trans['article_id'].unique()))\n",
    "print(len(arts['article_id'].unique()))"
   ],
   "metadata": {
    "collapsed": false,
    "pycharm": {
     "name": "#%%\n"
    }
   }
  },
  {
   "cell_type": "code",
   "execution_count": 8,
   "outputs": [],
   "source": [
    "\n",
    "temp = pd.merge(arts,dates,how='outer',on='article_id')\n"
   ],
   "metadata": {
    "collapsed": false,
    "pycharm": {
     "name": "#%%\n"
    }
   }
  },
  {
   "cell_type": "code",
   "execution_count": 21,
   "outputs": [],
   "source": [
    "def preprocess_clothing(c_df,out_file_name,first_cutoff=None,last_cutoff=None):\n",
    "    tcombine = ['Garment and Shoe care', 'Furniture', 'Stationery', 'Interior textile', 'Fun']\n",
    "    for i in tcombine:\n",
    "        c_df['product_group_name'].str.replace(i, 'Items')\n",
    "    c_df = pd.get_dummies(c_df, columns=['product_type_no', 'graphical_appearance_no',\n",
    "                                                       'colour_group_code', 'product_group_name',\n",
    "                                                       'perceived_colour_master_id',\n",
    "                                                       'department_no', 'section_no', 'garment_group_no'],\n",
    "                                 drop_first=True)\n",
    "    if first_cutoff is not None:\n",
    "        c_df = c_df[c_df['Last_Date']>=first_cutoff]\n",
    "    if last_cutoff is not None:\n",
    "        c_df = c_df[c_df['Last_Date']<last_cutoff]\n",
    "    c_df.drop(columns=['Last_Date','First_Date','duration','product_code'],inplace=True)\n",
    "    c_df.to_csv(f'../inputs/{out_file_name}.csv', index=False)\n",
    "\n",
    "preprocess_clothing(temp,'train_art_target_1',None,'2019-09-01')\n",
    "preprocess_clothing(temp,'train_art_target_2','2019-09-01',)"
   ],
   "metadata": {
    "collapsed": false,
    "pycharm": {
     "name": "#%%\n"
    }
   }
  },
  {
   "cell_type": "code",
   "execution_count": 24,
   "outputs": [],
   "source": [
    "preprocess_clothing(temp,'test_arts','2020-09-06')"
   ],
   "metadata": {
    "collapsed": false,
    "pycharm": {
     "name": "#%%\n"
    }
   }
  },
  {
   "cell_type": "code",
   "execution_count": 23,
   "outputs": [],
   "source": [
    "x = pd.read_csv('../inputs/train_art_target_1.csv')\n",
    "y = pd.read_csv('../inputs/clothing.csv')\n",
    "\n",
    "\n"
   ],
   "metadata": {
    "collapsed": false,
    "pycharm": {
     "name": "#%%\n"
    }
   }
  }
 ],
 "metadata": {
  "kernelspec": {
   "display_name": "Python 3",
   "language": "python",
   "name": "python3"
  },
  "language_info": {
   "codemirror_mode": {
    "name": "ipython",
    "version": 2
   },
   "file_extension": ".py",
   "mimetype": "text/x-python",
   "name": "python",
   "nbconvert_exporter": "python",
   "pygments_lexer": "ipython2",
   "version": "2.7.6"
  }
 },
 "nbformat": 4,
 "nbformat_minor": 0
}